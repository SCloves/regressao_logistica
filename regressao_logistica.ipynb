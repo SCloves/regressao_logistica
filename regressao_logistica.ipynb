{
 "cells": [
  {
   "cell_type": "markdown",
   "metadata": {},
   "source": [
    "# Regressão Logística #"
   ]
  },
  {
   "cell_type": "markdown",
   "metadata": {},
   "source": [
    "<img src='foto.jpg'>"
   ]
  },
  {
   "cell_type": "markdown",
   "metadata": {},
   "source": [
    "A regressão logística é um método para ajustar uma curva de regressão, y = f (x), quando y é uma variável categórica. O uso típico deste modelo é prever y dado um conjunto de preditores x. Os preditores podem ser contínuos, categóricos ou uma mistura de ambos.\n",
    "\n",
    "Para entender melhor o conseito matemático por trás da Regressão Logística, assista esse [Vídeo](https://www.youtube.com/watch?v=EocjYP5h0cE)"
   ]
  },
  {
   "cell_type": "markdown",
   "metadata": {},
   "source": [
    "Neste estudo chamo o modelo de \"regressão logística binomial\", uma vez que a variável resposta é binária, no entanto, regressão logística também pode ser usada para prever uma variável dependente que pode assumir mais de 2 valores. Neste segundo caso chamamos o modelo de \"regressão logística multinomial\". Um exemplo típico, por exemplo, seria a classificação de filmes entre \"Divertido\", \"indiferente\" ou \"chato\"."
   ]
  },
  {
   "cell_type": "markdown",
   "metadata": {},
   "source": [
    "### Implementação de regressão logística em R ###"
   ]
  },
  {
   "cell_type": "markdown",
   "metadata": {},
   "source": [
    "O **R** torna torna a tarefa de ajustar um modelo de regressão logística muito facíl. A função a ser chamada é glm() e o processo de ajuste não é tão diferente do usado na regressão linear, a função lm(). Neste estudo eu vou ajustar um modelo de regressão logística binária e explicar cada passo."
   ]
  },
  {
   "cell_type": "markdown",
   "metadata": {},
   "source": [
    "### Preparar o Data Set ###"
   ]
  },
  {
   "cell_type": "markdown",
   "metadata": {},
   "source": [
    "Vamos trabalhar com um dataset famoso, o Titanic. Você poderá saber mais sobre esse dataset e baixa-lo [aqui](https://www.kaggle.com/c/titanic)"
   ]
  },
  {
   "cell_type": "code",
   "execution_count": 1,
   "metadata": {
    "collapsed": true
   },
   "outputs": [],
   "source": [
    "dado_cru_de_treinamento <- read.csv('train.csv',header=T,na.strings=c(\"\"))"
   ]
  },
  {
   "cell_type": "code",
   "execution_count": 2,
   "metadata": {
    "collapsed": false
   },
   "outputs": [
    {
     "data": {
      "text/html": [
       "<table>\n",
       "<thead><tr><th scope=col>PassengerId</th><th scope=col>Survived</th><th scope=col>Pclass</th><th scope=col>Name</th><th scope=col>Sex</th><th scope=col>Age</th><th scope=col>SibSp</th><th scope=col>Parch</th><th scope=col>Ticket</th><th scope=col>Fare</th><th scope=col>Cabin</th><th scope=col>Embarked</th></tr></thead>\n",
       "<tbody>\n",
       "\t<tr><td>1                                                  </td><td>0                                                  </td><td>3                                                  </td><td>Braund, Mr. Owen Harris                            </td><td>male                                               </td><td>22                                                 </td><td>1                                                  </td><td>0                                                  </td><td>A/5 21171                                          </td><td> 7.2500                                            </td><td>NA                                                 </td><td>S                                                  </td></tr>\n",
       "\t<tr><td>2                                                  </td><td>1                                                  </td><td>1                                                  </td><td>Cumings, Mrs. John Bradley (Florence Briggs Thayer)</td><td>female                                             </td><td>38                                                 </td><td>1                                                  </td><td>0                                                  </td><td>PC 17599                                           </td><td>71.2833                                            </td><td>C85                                                </td><td>C                                                  </td></tr>\n",
       "\t<tr><td>3                                                  </td><td>1                                                  </td><td>3                                                  </td><td>Heikkinen, Miss. Laina                             </td><td>female                                             </td><td>26                                                 </td><td>0                                                  </td><td>0                                                  </td><td>STON/O2. 3101282                                   </td><td> 7.9250                                            </td><td>NA                                                 </td><td>S                                                  </td></tr>\n",
       "</tbody>\n",
       "</table>\n"
      ],
      "text/latex": [
       "\\begin{tabular}{r|llllllllllll}\n",
       " PassengerId & Survived & Pclass & Name & Sex & Age & SibSp & Parch & Ticket & Fare & Cabin & Embarked\\\\\n",
       "\\hline\n",
       "\t 1                                                   & 0                                                   & 3                                                   & Braund, Mr. Owen Harris                             & male                                                & 22                                                  & 1                                                   & 0                                                   & A/5 21171                                           &  7.2500                                             & NA                                                  & S                                                  \\\\\n",
       "\t 2                                                   & 1                                                   & 1                                                   & Cumings, Mrs. John Bradley (Florence Briggs Thayer) & female                                              & 38                                                  & 1                                                   & 0                                                   & PC 17599                                            & 71.2833                                             & C85                                                 & C                                                  \\\\\n",
       "\t 3                                                   & 1                                                   & 3                                                   & Heikkinen, Miss. Laina                              & female                                              & 26                                                  & 0                                                   & 0                                                   & STON/O2. 3101282                                    &  7.9250                                             & NA                                                  & S                                                  \\\\\n",
       "\\end{tabular}\n"
      ],
      "text/markdown": [
       "\n",
       "PassengerId | Survived | Pclass | Name | Sex | Age | SibSp | Parch | Ticket | Fare | Cabin | Embarked | \n",
       "|---|---|---|\n",
       "| 1                                                   | 0                                                   | 3                                                   | Braund, Mr. Owen Harris                             | male                                                | 22                                                  | 1                                                   | 0                                                   | A/5 21171                                           |  7.2500                                             | NA                                                  | S                                                   | \n",
       "| 2                                                   | 1                                                   | 1                                                   | Cumings, Mrs. John Bradley (Florence Briggs Thayer) | female                                              | 38                                                  | 1                                                   | 0                                                   | PC 17599                                            | 71.2833                                             | C85                                                 | C                                                   | \n",
       "| 3                                                   | 1                                                   | 3                                                   | Heikkinen, Miss. Laina                              | female                                              | 26                                                  | 0                                                   | 0                                                   | STON/O2. 3101282                                    |  7.9250                                             | NA                                                  | S                                                   | \n",
       "\n",
       "\n"
      ],
      "text/plain": [
       "  PassengerId Survived Pclass\n",
       "1 1           0        3     \n",
       "2 2           1        1     \n",
       "3 3           1        3     \n",
       "  Name                                                Sex    Age SibSp Parch\n",
       "1 Braund, Mr. Owen Harris                             male   22  1     0    \n",
       "2 Cumings, Mrs. John Bradley (Florence Briggs Thayer) female 38  1     0    \n",
       "3 Heikkinen, Miss. Laina                              female 26  0     0    \n",
       "  Ticket           Fare    Cabin Embarked\n",
       "1 A/5 21171         7.2500 NA    S       \n",
       "2 PC 17599         71.2833 C85   C       \n",
       "3 STON/O2. 3101282  7.9250 NA    S       "
      ]
     },
     "metadata": {},
     "output_type": "display_data"
    }
   ],
   "source": [
    "head(dado_cru_de_treinamento, 3)"
   ]
  },
  {
   "cell_type": "markdown",
   "metadata": {},
   "source": [
    "Agora precisamos verificar se há valores nulos(null) e ver quantos valores distintos existem para cada variável usando a função sapply () que aplica a função passada como argumento para cada coluna do dataframe."
   ]
  },
  {
   "cell_type": "code",
   "execution_count": 3,
   "metadata": {
    "collapsed": false
   },
   "outputs": [
    {
     "data": {
      "text/html": [
       "<dl class=dl-horizontal>\n",
       "\t<dt>PassengerId</dt>\n",
       "\t\t<dd>0</dd>\n",
       "\t<dt>Survived</dt>\n",
       "\t\t<dd>0</dd>\n",
       "\t<dt>Pclass</dt>\n",
       "\t\t<dd>0</dd>\n",
       "\t<dt>Name</dt>\n",
       "\t\t<dd>0</dd>\n",
       "\t<dt>Sex</dt>\n",
       "\t\t<dd>0</dd>\n",
       "\t<dt>Age</dt>\n",
       "\t\t<dd>177</dd>\n",
       "\t<dt>SibSp</dt>\n",
       "\t\t<dd>0</dd>\n",
       "\t<dt>Parch</dt>\n",
       "\t\t<dd>0</dd>\n",
       "\t<dt>Ticket</dt>\n",
       "\t\t<dd>0</dd>\n",
       "\t<dt>Fare</dt>\n",
       "\t\t<dd>0</dd>\n",
       "\t<dt>Cabin</dt>\n",
       "\t\t<dd>687</dd>\n",
       "\t<dt>Embarked</dt>\n",
       "\t\t<dd>2</dd>\n",
       "</dl>\n"
      ],
      "text/latex": [
       "\\begin{description*}\n",
       "\\item[PassengerId] 0\n",
       "\\item[Survived] 0\n",
       "\\item[Pclass] 0\n",
       "\\item[Name] 0\n",
       "\\item[Sex] 0\n",
       "\\item[Age] 177\n",
       "\\item[SibSp] 0\n",
       "\\item[Parch] 0\n",
       "\\item[Ticket] 0\n",
       "\\item[Fare] 0\n",
       "\\item[Cabin] 687\n",
       "\\item[Embarked] 2\n",
       "\\end{description*}\n"
      ],
      "text/markdown": [
       "PassengerId\n",
       ":   0Survived\n",
       ":   0Pclass\n",
       ":   0Name\n",
       ":   0Sex\n",
       ":   0Age\n",
       ":   177SibSp\n",
       ":   0Parch\n",
       ":   0Ticket\n",
       ":   0Fare\n",
       ":   0Cabin\n",
       ":   687Embarked\n",
       ":   2\n",
       "\n"
      ],
      "text/plain": [
       "PassengerId    Survived      Pclass        Name         Sex         Age \n",
       "          0           0           0           0           0         177 \n",
       "      SibSp       Parch      Ticket        Fare       Cabin    Embarked \n",
       "          0           0           0           0         687           2 "
      ]
     },
     "metadata": {},
     "output_type": "display_data"
    },
    {
     "data": {
      "text/html": [
       "<dl class=dl-horizontal>\n",
       "\t<dt>PassengerId</dt>\n",
       "\t\t<dd>891</dd>\n",
       "\t<dt>Survived</dt>\n",
       "\t\t<dd>2</dd>\n",
       "\t<dt>Pclass</dt>\n",
       "\t\t<dd>3</dd>\n",
       "\t<dt>Name</dt>\n",
       "\t\t<dd>891</dd>\n",
       "\t<dt>Sex</dt>\n",
       "\t\t<dd>2</dd>\n",
       "\t<dt>Age</dt>\n",
       "\t\t<dd>89</dd>\n",
       "\t<dt>SibSp</dt>\n",
       "\t\t<dd>7</dd>\n",
       "\t<dt>Parch</dt>\n",
       "\t\t<dd>7</dd>\n",
       "\t<dt>Ticket</dt>\n",
       "\t\t<dd>681</dd>\n",
       "\t<dt>Fare</dt>\n",
       "\t\t<dd>248</dd>\n",
       "\t<dt>Cabin</dt>\n",
       "\t\t<dd>148</dd>\n",
       "\t<dt>Embarked</dt>\n",
       "\t\t<dd>4</dd>\n",
       "</dl>\n"
      ],
      "text/latex": [
       "\\begin{description*}\n",
       "\\item[PassengerId] 891\n",
       "\\item[Survived] 2\n",
       "\\item[Pclass] 3\n",
       "\\item[Name] 891\n",
       "\\item[Sex] 2\n",
       "\\item[Age] 89\n",
       "\\item[SibSp] 7\n",
       "\\item[Parch] 7\n",
       "\\item[Ticket] 681\n",
       "\\item[Fare] 248\n",
       "\\item[Cabin] 148\n",
       "\\item[Embarked] 4\n",
       "\\end{description*}\n"
      ],
      "text/markdown": [
       "PassengerId\n",
       ":   891Survived\n",
       ":   2Pclass\n",
       ":   3Name\n",
       ":   891Sex\n",
       ":   2Age\n",
       ":   89SibSp\n",
       ":   7Parch\n",
       ":   7Ticket\n",
       ":   681Fare\n",
       ":   248Cabin\n",
       ":   148Embarked\n",
       ":   4\n",
       "\n"
      ],
      "text/plain": [
       "PassengerId    Survived      Pclass        Name         Sex         Age \n",
       "        891           2           3         891           2          89 \n",
       "      SibSp       Parch      Ticket        Fare       Cabin    Embarked \n",
       "          7           7         681         248         148           4 "
      ]
     },
     "metadata": {},
     "output_type": "display_data"
    }
   ],
   "source": [
    "sapply(dado_cru_de_treinamento,function(x) sum(is.na(x)))\n",
    "sapply(dado_cru_de_treinamento, function(x) length(unique(x)))"
   ]
  },
  {
   "cell_type": "markdown",
   "metadata": {},
   "source": [
    "Ter uma visão sobre os valores nulls pode ser útil. No R há um pacote chamado Amelia que tem uma função de plotagem especial chamada missmap () que irá traçar o conjunto de dados e realçar os valores em falta:"
   ]
  },
  {
   "cell_type": "code",
   "execution_count": 4,
   "metadata": {
    "collapsed": false
   },
   "outputs": [
    {
     "name": "stderr",
     "output_type": "stream",
     "text": [
      "Loading required package: Rcpp\n",
      "## \n",
      "## Amelia II: Multiple Imputation\n",
      "## (Version 1.7.4, built: 2015-12-05)\n",
      "## Copyright (C) 2005-2017 James Honaker, Gary King and Matthew Blackwell\n",
      "## Refer to http://gking.harvard.edu/amelia/ for more information\n",
      "## \n"
     ]
    },
    {
     "data": {
      "image/png": "[encoded data removed]",
      "text/plain": [
       "Plot with title “Valores faltantes vs Observados”"
      ]
     },
     "metadata": {},
     "output_type": "display_data"
    }
   ],
   "source": [
    "library(Amelia)\n",
    "\n",
    "options(repr.plot.width=5, repr.plot.height=5)\n",
    "\n",
    "missmap(dado_cru_de_treinamento, main = \"Valores faltantes vs Observados\")"
   ]
  },
  {
   "cell_type": "markdown",
   "metadata": {},
   "source": [
    "A coluna Cabin tem muitos valores faltantes, não vamos usá-lo. Também não usaremos a coluna PassengerId, uma vez que é apenas um índice e também a Ticket pode ficar de fora."
   ]
  },
  {
   "cell_type": "code",
   "execution_count": 5,
   "metadata": {
    "collapsed": true
   },
   "outputs": [],
   "source": [
    "data <- subset(dado_cru_de_treinamento,select=c(2,3,5,6,7,8,10,12))"
   ]
  },
  {
   "cell_type": "markdown",
   "metadata": {},
   "source": [
    "A coluna Age tbm tem vários dados faltantes, vamos substitui-los pela média das idades."
   ]
  },
  {
   "cell_type": "code",
   "execution_count": 6,
   "metadata": {
    "collapsed": true
   },
   "outputs": [],
   "source": [
    "data$Age[is.na(data$Age)] <- mean(data$Age,na.rm=T)"
   ]
  },
  {
   "cell_type": "markdown",
   "metadata": {},
   "source": [
    "No que diz respeito às variáveis categóricas, as funções read.table() ou read.csv(), por padrão, codificarão as variáveis categóricas como fatores. Um fator é como R relaciona variáveis categóricas.\n",
    "Podemos verificar a codificação usando as seguintes linhas de código:"
   ]
  },
  {
   "cell_type": "code",
   "execution_count": 7,
   "metadata": {
    "collapsed": false
   },
   "outputs": [
    {
     "data": {
      "text/html": [
       "TRUE"
      ],
      "text/latex": [
       "TRUE"
      ],
      "text/markdown": [
       "TRUE"
      ],
      "text/plain": [
       "[1] TRUE"
      ]
     },
     "metadata": {},
     "output_type": "display_data"
    },
    {
     "data": {
      "text/html": [
       "TRUE"
      ],
      "text/latex": [
       "TRUE"
      ],
      "text/markdown": [
       "TRUE"
      ],
      "text/plain": [
       "[1] TRUE"
      ]
     },
     "metadata": {},
     "output_type": "display_data"
    }
   ],
   "source": [
    "is.factor(data$Sex)\n",
    "is.factor(data$Embarked)"
   ]
  },
  {
   "cell_type": "markdown",
   "metadata": {
    "collapsed": true
   },
   "source": [
    "Para uma melhor compreensão de como R vai lidar com as variáveis categóricas, podemos usar a função contrasts(). Esta função irá nos mostrar como as variáveis foram dummyfied, ou seja, tornadas indicadores pelo R e como interpretá-las em um modelo."
   ]
  },
  {
   "cell_type": "code",
   "execution_count": 8,
   "metadata": {
    "collapsed": false
   },
   "outputs": [
    {
     "data": {
      "text/html": [
       "<table>\n",
       "<thead><tr><th></th><th scope=col>male</th></tr></thead>\n",
       "<tbody>\n",
       "\t<tr><th scope=row>female</th><td>0</td></tr>\n",
       "\t<tr><th scope=row>male</th><td>1</td></tr>\n",
       "</tbody>\n",
       "</table>\n"
      ],
      "text/latex": [
       "\\begin{tabular}{r|l}\n",
       "  & male\\\\\n",
       "\\hline\n",
       "\tfemale & 0\\\\\n",
       "\tmale & 1\\\\\n",
       "\\end{tabular}\n"
      ],
      "text/markdown": [
       "\n",
       "| <!--/--> | male | \n",
       "|---|---|\n",
       "| female | 0 | \n",
       "| male | 1 | \n",
       "\n",
       "\n"
      ],
      "text/plain": [
       "       male\n",
       "female 0   \n",
       "male   1   "
      ]
     },
     "metadata": {},
     "output_type": "display_data"
    }
   ],
   "source": [
    "contrasts(data$Sex)"
   ]
  },
  {
   "cell_type": "code",
   "execution_count": 9,
   "metadata": {
    "collapsed": false
   },
   "outputs": [
    {
     "data": {
      "text/html": [
       "<table>\n",
       "<thead><tr><th></th><th scope=col>Q</th><th scope=col>S</th></tr></thead>\n",
       "<tbody>\n",
       "\t<tr><th scope=row>C</th><td>0</td><td>0</td></tr>\n",
       "\t<tr><th scope=row>Q</th><td>1</td><td>0</td></tr>\n",
       "\t<tr><th scope=row>S</th><td>0</td><td>1</td></tr>\n",
       "</tbody>\n",
       "</table>\n"
      ],
      "text/latex": [
       "\\begin{tabular}{r|ll}\n",
       "  & Q & S\\\\\n",
       "\\hline\n",
       "\tC & 0 & 0\\\\\n",
       "\tQ & 1 & 0\\\\\n",
       "\tS & 0 & 1\\\\\n",
       "\\end{tabular}\n"
      ],
      "text/markdown": [
       "\n",
       "| <!--/--> | Q | S | \n",
       "|---|---|---|\n",
       "| C | 0 | 0 | \n",
       "| Q | 1 | 0 | \n",
       "| S | 0 | 1 | \n",
       "\n",
       "\n"
      ],
      "text/plain": [
       "  Q S\n",
       "C 0 0\n",
       "Q 1 0\n",
       "S 0 1"
      ]
     },
     "metadata": {},
     "output_type": "display_data"
    }
   ],
   "source": [
    "contrasts(data$Embarked)"
   ]
  },
  {
   "cell_type": "markdown",
   "metadata": {},
   "source": [
    "Por exemplo, você pode ver que na variável sexo, feminino será usado como a referência. Quanto aos valores em falta em Embarked, uma vez que existem apenas dois, vamos descartar essas duas linhas"
   ]
  },
  {
   "cell_type": "code",
   "execution_count": 10,
   "metadata": {
    "collapsed": true
   },
   "outputs": [],
   "source": [
    "data <- data[!is.na(data$Embarked),]\n",
    "rownames(data) <- NULL"
   ]
  },
  {
   "cell_type": "markdown",
   "metadata": {},
   "source": [
    "Antes de prosseguir com a aplicação do modelo, deixe-me lembrar o quão importante é a limpeza e a formatação dos dados. Este passo de pré-processamento é frequentemente crucial para obter um bom ajuste do modelo e uma melhor capacidade de previsão."
   ]
  },
  {
   "cell_type": "markdown",
   "metadata": {},
   "source": [
    "### Implementando o Modelo ###"
   ]
  },
  {
   "cell_type": "markdown",
   "metadata": {},
   "source": [
    "Vamos dividir nosso dataset data em dois, um de treinamento, chamaremos de train, e outro de teste que chamaremos de test. O dataset de treinamento será usado para ajustar nosso modelo para depois testar sobre o dataset test."
   ]
  },
  {
   "cell_type": "code",
   "execution_count": 11,
   "metadata": {
    "collapsed": true
   },
   "outputs": [],
   "source": [
    "treinamento <- data[1:800,]\n",
    "teste <- data[801:889,]"
   ]
  },
  {
   "cell_type": "markdown",
   "metadata": {},
   "source": [
    "Agora vamos rodar nosso modelo:"
   ]
  },
  {
   "cell_type": "code",
   "execution_count": 12,
   "metadata": {
    "collapsed": true
   },
   "outputs": [],
   "source": [
    "modelo <- glm(Survived ~.,family=binomial(link='logit'),data=treinamento)"
   ]
  },
  {
   "cell_type": "markdown",
   "metadata": {
    "collapsed": true
   },
   "source": [
    "Usando a função summary() podemos obter algumas estatísticas do modelo"
   ]
  },
  {
   "cell_type": "code",
   "execution_count": 13,
   "metadata": {
    "collapsed": false
   },
   "outputs": [
    {
     "data": {
      "text/plain": [
       "\n",
       "Call:\n",
       "glm(formula = Survived ~ ., family = binomial(link = \"logit\"), \n",
       "    data = treinamento)\n",
       "\n",
       "Deviance Residuals: \n",
       "    Min       1Q   Median       3Q      Max  \n",
       "-2.6064  -0.5954  -0.4254   0.6220   2.4165  \n",
       "\n",
       "Coefficients:\n",
       "             Estimate Std. Error z value Pr(>|z|)    \n",
       "(Intercept)  5.137627   0.594998   8.635  < 2e-16 ***\n",
       "Pclass      -1.087156   0.151168  -7.192 6.40e-13 ***\n",
       "Sexmale     -2.756819   0.212026 -13.002  < 2e-16 ***\n",
       "Age         -0.037267   0.008195  -4.547 5.43e-06 ***\n",
       "SibSp       -0.292920   0.114642  -2.555   0.0106 *  \n",
       "Parch       -0.116576   0.128127  -0.910   0.3629    \n",
       "Fare         0.001528   0.002353   0.649   0.5160    \n",
       "EmbarkedQ   -0.002656   0.400882  -0.007   0.9947    \n",
       "EmbarkedS   -0.318786   0.252960  -1.260   0.2076    \n",
       "---\n",
       "Signif. codes:  0 ‘***’ 0.001 ‘**’ 0.01 ‘*’ 0.05 ‘.’ 0.1 ‘ ’ 1\n",
       "\n",
       "(Dispersion parameter for binomial family taken to be 1)\n",
       "\n",
       "    Null deviance: 1065.39  on 799  degrees of freedom\n",
       "Residual deviance:  709.39  on 791  degrees of freedom\n",
       "AIC: 727.39\n",
       "\n",
       "Number of Fisher Scoring iterations: 5\n"
      ]
     },
     "metadata": {},
     "output_type": "display_data"
    }
   ],
   "source": [
    "summary(modelo)"
   ]
  },
  {
   "cell_type": "markdown",
   "metadata": {},
   "source": [
    "Podemos notar que Pclass, Sexmale e Age foram as que tiveram menor p-valor, e foram marcadas com 3 estrelas. Portanto, essas variáveis são as mais significativas para nosso objetivo. Sexo foi o que obteve o menor p-valor, sugerindo haver forte relação entre sobrevivência e sexo. "
   ]
  },
  {
   "cell_type": "markdown",
   "metadata": {},
   "source": [
    "Vamos usar a ANOVA para analizar a tabela de variância."
   ]
  },
  {
   "cell_type": "code",
   "execution_count": 14,
   "metadata": {
    "collapsed": false
   },
   "outputs": [
    {
     "data": {
      "text/html": [
       "<table>\n",
       "<thead><tr><th></th><th scope=col>Df</th><th scope=col>Deviance</th><th scope=col>Resid. Df</th><th scope=col>Resid. Dev</th><th scope=col>Pr(&gt;Chi)</th></tr></thead>\n",
       "<tbody>\n",
       "\t<tr><th scope=row>NULL</th><td>NA          </td><td>         NA </td><td>799         </td><td>1065.3922   </td><td>          NA</td></tr>\n",
       "\t<tr><th scope=row>Pclass</th><td> 1          </td><td> 83.6069449 </td><td>798         </td><td> 981.7853   </td><td>6.036064e-20</td></tr>\n",
       "\t<tr><th scope=row>Sex</th><td> 1          </td><td>240.0135513 </td><td>797         </td><td> 741.7717   </td><td>3.906166e-54</td></tr>\n",
       "\t<tr><th scope=row>Age</th><td> 1          </td><td> 17.4946765 </td><td>796         </td><td> 724.2770   </td><td>2.881133e-05</td></tr>\n",
       "\t<tr><th scope=row>SibSp</th><td> 1          </td><td> 10.8423921 </td><td>795         </td><td> 713.4346   </td><td>9.920249e-04</td></tr>\n",
       "\t<tr><th scope=row>Parch</th><td> 1          </td><td>  0.8630972 </td><td>794         </td><td> 712.5715   </td><td>3.528734e-01</td></tr>\n",
       "\t<tr><th scope=row>Fare</th><td> 1          </td><td>  0.9942053 </td><td>793         </td><td> 711.5773   </td><td>3.187167e-01</td></tr>\n",
       "\t<tr><th scope=row>Embarked</th><td> 2          </td><td>  2.1873120 </td><td>791         </td><td> 709.3900   </td><td>3.349895e-01</td></tr>\n",
       "</tbody>\n",
       "</table>\n"
      ],
      "text/latex": [
       "\\begin{tabular}{r|lllll}\n",
       "  & Df & Deviance & Resid. Df & Resid. Dev & Pr(>Chi)\\\\\n",
       "\\hline\n",
       "\tNULL & NA           &          NA  & 799          & 1065.3922    &           NA\\\\\n",
       "\tPclass &  1           &  83.6069449  & 798          &  981.7853    & 6.036064e-20\\\\\n",
       "\tSex &  1           & 240.0135513  & 797          &  741.7717    & 3.906166e-54\\\\\n",
       "\tAge &  1           &  17.4946765  & 796          &  724.2770    & 2.881133e-05\\\\\n",
       "\tSibSp &  1           &  10.8423921  & 795          &  713.4346    & 9.920249e-04\\\\\n",
       "\tParch &  1           &   0.8630972  & 794          &  712.5715    & 3.528734e-01\\\\\n",
       "\tFare &  1           &   0.9942053  & 793          &  711.5773    & 3.187167e-01\\\\\n",
       "\tEmbarked &  2           &   2.1873120  & 791          &  709.3900    & 3.349895e-01\\\\\n",
       "\\end{tabular}\n"
      ],
      "text/markdown": [
       "\n",
       "| <!--/--> | Df | Deviance | Resid. Df | Resid. Dev | Pr(>Chi) | \n",
       "|---|---|---|---|---|---|---|---|\n",
       "| NULL | NA           |          NA  | 799          | 1065.3922    |           NA | \n",
       "| Pclass |  1           |  83.6069449  | 798          |  981.7853    | 6.036064e-20 | \n",
       "| Sex |  1           | 240.0135513  | 797          |  741.7717    | 3.906166e-54 | \n",
       "| Age |  1           |  17.4946765  | 796          |  724.2770    | 2.881133e-05 | \n",
       "| SibSp |  1           |  10.8423921  | 795          |  713.4346    | 9.920249e-04 | \n",
       "| Parch |  1           |   0.8630972  | 794          |  712.5715    | 3.528734e-01 | \n",
       "| Fare |  1           |   0.9942053  | 793          |  711.5773    | 3.187167e-01 | \n",
       "| Embarked |  2           |   2.1873120  | 791          |  709.3900    | 3.349895e-01 | \n",
       "\n",
       "\n"
      ],
      "text/plain": [
       "         Df Deviance    Resid. Df Resid. Dev Pr(>Chi)    \n",
       "NULL     NA          NA 799       1065.3922            NA\n",
       "Pclass    1  83.6069449 798        981.7853  6.036064e-20\n",
       "Sex       1 240.0135513 797        741.7717  3.906166e-54\n",
       "Age       1  17.4946765 796        724.2770  2.881133e-05\n",
       "SibSp     1  10.8423921 795        713.4346  9.920249e-04\n",
       "Parch     1   0.8630972 794        712.5715  3.528734e-01\n",
       "Fare      1   0.9942053 793        711.5773  3.187167e-01\n",
       "Embarked  2   2.1873120 791        709.3900  3.349895e-01"
      ]
     },
     "metadata": {},
     "output_type": "display_data"
    }
   ],
   "source": [
    "anova(modelo, test=\"Chisq\")"
   ]
  },
  {
   "cell_type": "markdown",
   "metadata": {},
   "source": [
    "A diferença entre o desvio nulo e o desvio residual mostra como nosso modelo está indo contra o Modelo nulo (um modelo com apenas o intercepto). Quanto maior essa lacuna, melhor. Analisando a tabela podemos ver que o desvio diminui ao adicionar uma variável de cada vez. Novamente, adicionando Pclass, Sexo e Idade reduz significativamente  o desvio residual. As outras variáveis parecem melhorar o modelo mesmo que a variável SibSp tenha um baixo P-valor. Um grande p-valor aqui indica que o modelo sem a variável explica mais ou menos a mesma\n",
    "quantidade de variação. Em última análise, o que você gostaria de ver é uma queda significativa no desvio e AIC."
   ]
  },
  {
   "cell_type": "code",
   "execution_count": 15,
   "metadata": {
    "collapsed": false
   },
   "outputs": [
    {
     "name": "stderr",
     "output_type": "stream",
     "text": [
      "Loading required package: MASS\n",
      "Loading required package: lattice\n",
      "Classes and Methods for R developed in the\n",
      "\n",
      "Political Science Computational Laboratory\n",
      "\n",
      "Department of Political Science\n",
      "\n",
      "Stanford University\n",
      "\n",
      "Simon Jackman\n",
      "\n",
      "hurdle and zeroinfl functions by Achim Zeileis\n",
      "\n"
     ]
    }
   ],
   "source": [
    "library(pscl)"
   ]
  },
  {
   "cell_type": "code",
   "execution_count": 16,
   "metadata": {
    "collapsed": false
   },
   "outputs": [
    {
     "data": {
      "text/html": [
       "<dl class=dl-horizontal>\n",
       "\t<dt>llh</dt>\n",
       "\t\t<dd>-354.695011140774</dd>\n",
       "\t<dt>llhNull</dt>\n",
       "\t\t<dd>-532.696100822026</dd>\n",
       "\t<dt>G2</dt>\n",
       "\t\t<dd>356.002179362505</dd>\n",
       "\t<dt>McFadden</dt>\n",
       "\t\t<dd>0.334151290776432</dd>\n",
       "\t<dt>r2ML</dt>\n",
       "\t\t<dd>0.359177469700802</dd>\n",
       "\t<dt>r2CU</dt>\n",
       "\t\t<dd>0.488024406926723</dd>\n",
       "</dl>\n"
      ],
      "text/latex": [
       "\\begin{description*}\n",
       "\\item[llh] -354.695011140774\n",
       "\\item[llhNull] -532.696100822026\n",
       "\\item[G2] 356.002179362505\n",
       "\\item[McFadden] 0.334151290776432\n",
       "\\item[r2ML] 0.359177469700802\n",
       "\\item[r2CU] 0.488024406926723\n",
       "\\end{description*}\n"
      ],
      "text/markdown": [
       "llh\n",
       ":   -354.695011140774llhNull\n",
       ":   -532.696100822026G2\n",
       ":   356.002179362505McFadden\n",
       ":   0.334151290776432r2ML\n",
       ":   0.359177469700802r2CU\n",
       ":   0.488024406926723\n",
       "\n"
      ],
      "text/plain": [
       "         llh      llhNull           G2     McFadden         r2ML         r2CU \n",
       "-354.6950111 -532.6961008  356.0021794    0.3341513    0.3591775    0.4880244 "
      ]
     },
     "metadata": {},
     "output_type": "display_data"
    }
   ],
   "source": [
    "pR2(modelo)"
   ]
  },
  {
   "cell_type": "markdown",
   "metadata": {},
   "source": [
    "### Avaliar a capacidade de previsão do modelo ###"
   ]
  },
  {
   "cell_type": "markdown",
   "metadata": {},
   "source": [
    "Nos passos acima, avaliamos brevemente a adequação e estatísticas do modelo, agora gostaríamos de ver como o modelo é bom para prever y, nossa variável resposta, em um novo conjunto de dados. Ao definir o parâmetro type='response', R irá produzir probabilidades na forma de P (y = 1 | X). Nosso limite de decisão será 0,5. Se P (y = 1 | X)> 0,5 então y = 1 caso contrário Y = 0. Note que para algumas aplicações diferentes limites de decisão podem assumir valores mais apropriados. "
   ]
  },
  {
   "cell_type": "code",
   "execution_count": 17,
   "metadata": {
    "collapsed": false
   },
   "outputs": [],
   "source": [
    "fitted.results <- predict(modelo, newdata = subset(teste,select=c(2,3,4,5,6,7,8)), type='response')"
   ]
  },
  {
   "cell_type": "code",
   "execution_count": 18,
   "metadata": {
    "collapsed": true
   },
   "outputs": [],
   "source": [
    "# as probabilidades maiores que 0.5 serão classificadas com 1, ou seja, sobrevivente\n",
    "fitted.results <- ifelse(fitted.results > 0.5,1,0)"
   ]
  },
  {
   "cell_type": "code",
   "execution_count": 19,
   "metadata": {
    "collapsed": true
   },
   "outputs": [],
   "source": [
    "# obtendo as classificações erradas, ou seja,\n",
    "# as pessoas que foram classificadas como sobreviventes\n",
    "# mas não sobreviveram e vice versa\n",
    "misClasificError <- mean(fitted.results != teste$Survived)"
   ]
  },
  {
   "cell_type": "code",
   "execution_count": 20,
   "metadata": {
    "collapsed": false
   },
   "outputs": [
    {
     "name": "stdout",
     "output_type": "stream",
     "text": [
      "[1] \"Acurácia 0.842696629213483\"\n"
     ]
    }
   ],
   "source": [
    "print(paste('Acurácia',1-misClasificError))"
   ]
  },
  {
   "cell_type": "markdown",
   "metadata": {},
   "source": [
    "A acurácia de 0,84 no conjunto de teste é um bom resultado. No entanto, tenha em mente que este resultado é,\n",
    "dependente da divisão manual dos dados que eu fiz anteriormente, portanto, se você deseja um valor mais acurado, seria melhor executar algum tipo de validação cruzada, como a validação cruzada de k-fold."
   ]
  },
  {
   "cell_type": "markdown",
   "metadata": {},
   "source": [
    "Como último passo, vamos traçar a curva [ROC](http://www.portalaction.com.br/analise-de-regressao/45-predicao) e calcular a [AUC](http://www2.ime.unicamp.br/sinape/sites/default/files/souzarm_versao_1.pdf) (área sob a curva) que são medidas típicas para calcular desempenho de um classificador binário."
   ]
  },
  {
   "cell_type": "markdown",
   "metadata": {},
   "source": [
    "O ROC é uma curva gerada pela representação da taxa positiva real (TPR) em relação à taxa de falso positivo (FPR) de acordo com várias definições de limiar enquanto que a AUC é a área sob a curva ROC. Como essa regra geral, um modelo com boa capacidade preditiva deve ter uma AUC mais próxima de 1 (1 é ideal) do que de 0,5."
   ]
  },
  {
   "cell_type": "code",
   "execution_count": 21,
   "metadata": {
    "collapsed": false
   },
   "outputs": [
    {
     "name": "stderr",
     "output_type": "stream",
     "text": [
      "Loading required package: gplots\n",
      "\n",
      "Attaching package: ‘gplots’\n",
      "\n",
      "The following object is masked from ‘package:stats’:\n",
      "\n",
      "    lowess\n",
      "\n"
     ]
    }
   ],
   "source": [
    "library(ROCR)"
   ]
  },
  {
   "cell_type": "code",
   "execution_count": null,
   "metadata": {
    "collapsed": true
   },
   "outputs": [],
   "source": [
    "Aqui está nosso R"
   ]
  },
  {
   "cell_type": "code",
   "execution_count": 26,
   "metadata": {
    "collapsed": false
   },
   "outputs": [
    {
     "data": {
      "image/png": "[encoded data removed]",
      "text/plain": [
       "plot without title"
      ]
     },
     "metadata": {},
     "output_type": "display_data"
    }
   ],
   "source": [
    "options(repr.plot.width=4, repr.plot.height=4)\n",
    "\n",
    "p <- predict(modelo, newdata=subset(teste,select=c(2,3,4,5,6,7,8)), type=\"response\")\n",
    "pr <- prediction(p, teste$Survived)\n",
    "prf <- performance(pr, measure = \"tpr\", x.measure = \"fpr\")\n",
    "plot(prf)"
   ]
  },
  {
   "cell_type": "code",
   "execution_count": null,
   "metadata": {
    "collapsed": true
   },
   "outputs": [],
   "source": []
  }
 ],
 "metadata": {
  "anaconda-cloud": {},
  "kernelspec": {
   "display_name": "R 3.3",
   "language": "R",
   "name": "ir33"
  },
  "language_info": {
   "codemirror_mode": "r",
   "file_extension": ".r",
   "mimetype": "text/x-r-source",
   "name": "R",
   "pygments_lexer": "r",
   "version": "3.4.0"
  }
 },
 "nbformat": 4,
 "nbformat_minor": 2
}
